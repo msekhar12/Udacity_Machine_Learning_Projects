{
 "cells": [
  {
   "cell_type": "markdown",
   "metadata": {
    "collapsed": true
   },
   "source": [
    "# Image Classification\n",
    "In this project, you'll classify images from the [CIFAR-10 dataset](https://www.cs.toronto.edu/~kriz/cifar.html).  The dataset consists of airplanes, dogs, cats, and other objects. You'll preprocess the images, then train a convolutional neural network on all the samples. The images need to be normalized and the labels need to be one-hot encoded.  You'll get to apply what you learned and build a convolutional, max pooling, dropout, and fully connected layers.  At the end, you'll get to see your neural network's predictions on the sample images.\n",
    "## Get the Data\n",
    "Run the following cell to download the [CIFAR-10 dataset for python](https://www.cs.toronto.edu/~kriz/cifar-10-python.tar.gz)."
   ]
  },
  {
   "cell_type": "code",
   "execution_count": 1,
   "metadata": {},
   "outputs": [
    {
     "name": "stdout",
     "output_type": "stream",
     "text": [
      "All files found!\n"
     ]
    }
   ],
   "source": [
    "\"\"\"\n",
    "DON'T MODIFY ANYTHING IN THIS CELL THAT IS BELOW THIS LINE\n",
    "\"\"\"\n",
    "from urllib.request import urlretrieve\n",
    "from os.path import isfile, isdir\n",
    "from tqdm import tqdm\n",
    "import problem_unittests as tests\n",
    "import tarfile\n",
    "\n",
    "cifar10_dataset_folder_path = 'cifar-10-batches-py'\n",
    "\n",
    "class DLProgress(tqdm):\n",
    "    last_block = 0\n",
    "\n",
    "    def hook(self, block_num=1, block_size=1, total_size=None):\n",
    "        self.total = total_size\n",
    "        self.update((block_num - self.last_block) * block_size)\n",
    "        self.last_block = block_num\n",
    "\n",
    "if not isfile('cifar-10-python.tar.gz'):\n",
    "    with DLProgress(unit='B', unit_scale=True, miniters=1, desc='CIFAR-10 Dataset') as pbar:\n",
    "        urlretrieve(\n",
    "            'https://www.cs.toronto.edu/~kriz/cifar-10-python.tar.gz',\n",
    "            'cifar-10-python.tar.gz',\n",
    "            pbar.hook)\n",
    "\n",
    "if not isdir(cifar10_dataset_folder_path):\n",
    "    with tarfile.open('cifar-10-python.tar.gz') as tar:\n",
    "        tar.extractall()\n",
    "        tar.close()\n",
    "\n",
    "\n",
    "tests.test_folder_path(cifar10_dataset_folder_path)"
   ]
  },
  {
   "cell_type": "markdown",
   "metadata": {},
   "source": [
    "## Explore the Data\n",
    "The dataset is broken into batches to prevent your machine from running out of memory.  The CIFAR-10 dataset consists of 5 batches, named `data_batch_1`, `data_batch_2`, etc.. Each batch contains the labels and images that are one of the following:\n",
    "* airplane\n",
    "* automobile\n",
    "* bird\n",
    "* cat\n",
    "* deer\n",
    "* dog\n",
    "* frog\n",
    "* horse\n",
    "* ship\n",
    "* truck\n",
    "\n",
    "Understanding a dataset is part of making predictions on the data.  Play around with the code cell below by changing the `batch_id` and `sample_id`. The `batch_id` is the id for a batch (1-5). The `sample_id` is the id for a image and label pair in the batch.\n",
    "\n",
    "Ask yourself \"What are all possible labels?\", \"What is the range of values for the image data?\", \"Are the labels in order or random?\".  Answers to questions like these will help you preprocess the data and end up with better predictions."
   ]
  },
  {
   "cell_type": "code",
   "execution_count": 5,
   "metadata": {},
   "outputs": [
    {
     "name": "stdout",
     "output_type": "stream",
     "text": [
      "\n",
      "Stats of batch 1:\n",
      "Samples: 10000\n",
      "Label Counts: {0: 1005, 1: 974, 2: 1032, 3: 1016, 4: 999, 5: 937, 6: 1030, 7: 1001, 8: 1025, 9: 981}\n",
      "First 20 Labels: [6, 9, 9, 4, 1, 1, 2, 7, 8, 3, 4, 7, 7, 2, 9, 9, 9, 3, 2, 6]\n",
      "\n",
      "Example of Image 5:\n",
      "Image - Min Value: 0 Max Value: 252\n",
      "Image - Shape: (32, 32, 3)\n",
      "Label - Label Id: 1 Name: automobile\n"
     ]
    },
    {
     "data": {
      "image/png": "[encoded data removed]",
      "text/plain": [
       "<matplotlib.figure.Figure at 0x1e0d941ef28>"
      ]
     },
     "metadata": {
      "image/png": {
       "height": 250,
       "width": 253
      }
     },
     "output_type": "display_data"
    }
   ],
   "source": [
    "%matplotlib inline\n",
    "%config InlineBackend.figure_format = 'retina'\n",
    "\n",
    "import helper\n",
    "import numpy as np\n",
    "\n",
    "# Explore the dataset\n",
    "batch_id = 1\n",
    "sample_id = 5\n",
    "helper.display_stats(cifar10_dataset_folder_path, batch_id, sample_id)"
   ]
  },
  {
   "cell_type": "markdown",
   "metadata": {},
   "source": [
    "From the above display, we can conclude that the objects are almost identically distributed in batch-1. Also the First-20 labels confirm that the labels are randomly distributed. The image has identical length and width (32 pixels), and a depth of 3 (representing RGB). In the readme.html file, it was given that we have 60000 images belonging to 10 different classes. Out of these 60000 images 10000 images are kept aside as test data, while the remaining 50000 images were divided into 5 batches, each containing 10000 images. Each batch has a uniform distribution of the 10 classes (approximately 1000 images for each class in each batch). The test batch has exactly 1000 images for each of the 10 classes (as per the readme.html file)"
   ]
  },
  {
   "cell_type": "markdown",
   "metadata": {},
   "source": [
    "## Implement Preprocess Functions\n",
    "### Normalize\n",
    "In the cell below, implement the `normalize` function to take in image data, `x`, and return it as a normalized Numpy array. The values should be in the range of 0 to 1, inclusive.  The return object should be the same shape as `x`."
   ]
  },
  {
   "cell_type": "code",
   "execution_count": 2,
   "metadata": {},
   "outputs": [
    {
     "name": "stdout",
     "output_type": "stream",
     "text": [
      "Tests Passed\n"
     ]
    }
   ],
   "source": [
    "def normalize(x):\n",
    "    \"\"\"\n",
    "    Normalize a list of sample image data in the range of 0 to 1\n",
    "    : x: List of image data.  The image shape is (32, 32, 3)\n",
    "    : return: Numpy array of normalize data\n",
    "    \"\"\"\n",
    "    # TODO: Implement Function\n",
    "    return x/255\n",
    "\n",
    "\n",
    "\"\"\"\n",
    "DON'T MODIFY ANYTHING IN THIS CELL THAT IS BELOW THIS LINE\n",
    "\"\"\"\n",
    "tests.test_normalize(normalize)"
   ]
  },
  {
   "cell_type": "markdown",
   "metadata": {},
   "source": [
    "### One-hot encode\n",
    "Just like the previous code cell, you'll be implementing a function for preprocessing.  This time, you'll implement the `one_hot_encode` function. The input, `x`, are a list of labels.  Implement the function to return the list of labels as One-Hot encoded Numpy array.  The possible values for labels are 0 to 9. The one-hot encoding function should return the same encoding for each value between each call to `one_hot_encode`.  Make sure to save the map of encodings outside the function.\n",
    "\n",
    "**Hint:**\n",
    "\n",
    "Look into LabelBinarizer in the preprocessing module of sklearn."
   ]
  },
  {
   "cell_type": "code",
   "execution_count": 3,
   "metadata": {},
   "outputs": [
    {
     "name": "stdout",
     "output_type": "stream",
     "text": [
      "For the list of all labels:  [0, 1, 2, 3, 4, 5, 6, 7, 8, 9] \n",
      "we have the following encodings:\n",
      "[[1 0 0 0 0 0 0 0 0 0]\n",
      " [0 1 0 0 0 0 0 0 0 0]\n",
      " [0 0 1 0 0 0 0 0 0 0]\n",
      " [0 0 0 1 0 0 0 0 0 0]\n",
      " [0 0 0 0 1 0 0 0 0 0]\n",
      " [0 0 0 0 0 1 0 0 0 0]\n",
      " [0 0 0 0 0 0 1 0 0 0]\n",
      " [0 0 0 0 0 0 0 1 0 0]\n",
      " [0 0 0 0 0 0 0 0 1 0]\n",
      " [0 0 0 0 0 0 0 0 0 1]]\n",
      "Tests Passed\n"
     ]
    }
   ],
   "source": [
    "def one_hot_encode(x):\n",
    "    \"\"\"\n",
    "    One hot encode a list of sample labels. Return a one-hot encoded vector for each label.\n",
    "    : x: List of sample Labels\n",
    "    : return: Numpy array of one-hot encoded labels\n",
    "    \"\"\"\n",
    "    # TODO: Implement Function\n",
    "    #Import the required modules\n",
    "    from sklearn import preprocessing\n",
    "    \n",
    "    #Create a LabelBinarizer class\n",
    "    lb = preprocessing.LabelBinarizer()\n",
    "    \n",
    "    #Fit all the possible labels for this problem, irrespective of x values\n",
    "    all_labels = [0,1,2,3,4,5,6,7,8,9]\n",
    "    lb.fit(all_labels)\n",
    "    \n",
    "    all_enc = lb.transform(all_labels)\n",
    "    \n",
    "    #Return only the values in corresponding to x\n",
    "    return all_enc[x]\n",
    "    \n",
    "\n",
    "#Let us pass \n",
    "all_labels=[0,1,2,3,4,5,6,7,8,9]\n",
    "all_enc = one_hot_encode(all_labels)\n",
    "print(\"For the list of all labels: \",all_labels,\"\\nwe have the following encodings:\")\n",
    "print(all_enc)\n",
    "\"\"\"\n",
    "DON'T MODIFY ANYTHING IN THIS CELL THAT IS BELOW THIS LINE\n",
    "\"\"\"\n",
    "tests.test_one_hot_encode(one_hot_encode)"
   ]
  },
  {
   "cell_type": "markdown",
   "metadata": {},
   "source": [
    "### Randomize Data\n",
    "As you saw from exploring the data above, the order of the samples are randomized.  It doesn't hurt to randomize it again, but you don't need to for this dataset."
   ]
  },
  {
   "cell_type": "markdown",
   "metadata": {},
   "source": [
    "## Preprocess all the data and save it\n",
    "Running the code cell below will preprocess all the CIFAR-10 data and save it to file. The code below also uses 10% of the training data for validation."
   ]
  },
  {
   "cell_type": "code",
   "execution_count": 6,
   "metadata": {
    "collapsed": true
   },
   "outputs": [],
   "source": [
    "\"\"\"\n",
    "DON'T MODIFY ANYTHING IN THIS CELL\n",
    "\"\"\"\n",
    "# Preprocess Training, Validation, and Testing Data\n",
    "helper.preprocess_and_save_data(cifar10_dataset_folder_path, normalize, one_hot_encode)"
   ]
  },
  {
   "cell_type": "markdown",
   "metadata": {},
   "source": [
    "# Check Point\n",
    "This is your first checkpoint.  If you ever decide to come back to this notebook or have to restart the notebook, you can start from here.  The preprocessed data has been saved to disk."
   ]
  },
  {
   "cell_type": "code",
   "execution_count": 1,
   "metadata": {
    "collapsed": true
   },
   "outputs": [],
   "source": [
    "\"\"\"\n",
    "DON'T MODIFY ANYTHING IN THIS CELL\n",
    "\"\"\"\n",
    "import pickle\n",
    "import problem_unittests as tests\n",
    "import helper\n",
    "\n",
    "# Load the Preprocessed Validation data\n",
    "valid_features, valid_labels = pickle.load(open('preprocess_validation.p', mode='rb'))"
   ]
  },
  {
   "cell_type": "markdown",
   "metadata": {},
   "source": [
    "## Build the network\n",
    "For the neural network, you'll build each layer into a function.  Most of the code you've seen has been outside of functions. To test your code more thoroughly, we require that you put each layer in a function.  This allows us to give you better feedback and test for simple mistakes using our unittests before you submit your project.\n",
    "\n",
    ">**Note:** If you're finding it hard to dedicate enough time for this course each week, we've provided a small shortcut to this part of the project. In the next couple of problems, you'll have the option to use classes from the [TensorFlow Layers](https://www.tensorflow.org/api_docs/python/tf/layers) or [TensorFlow Layers (contrib)](https://www.tensorflow.org/api_guides/python/contrib.layers) packages to build each layer, except the layers you build in the \"Convolutional and Max Pooling Layer\" section.  TF Layers is similar to Keras's and TFLearn's abstraction to layers, so it's easy to pickup.\n",
    "\n",
    ">However, if you would like to get the most out of this course, try to solve all the problems _without_ using anything from the TF Layers packages. You **can** still use classes from other packages that happen to have the same name as ones you find in TF Layers! For example, instead of using the TF Layers version of the `conv2d` class, [tf.layers.conv2d](https://www.tensorflow.org/api_docs/python/tf/layers/conv2d), you would want to use the TF Neural Network version of `conv2d`, [tf.nn.conv2d](https://www.tensorflow.org/api_docs/python/tf/nn/conv2d). \n",
    "\n",
    "Let's begin!\n",
    "\n",
    "### Input\n",
    "The neural network needs to read the image data, one-hot encoded labels, and dropout keep probability. Implement the following functions\n",
    "* Implement `neural_net_image_input`\n",
    " * Return a [TF Placeholder](https://www.tensorflow.org/api_docs/python/tf/placeholder)\n",
    " * Set the shape using `image_shape` with batch size set to `None`.\n",
    " * Name the TensorFlow placeholder \"x\" using the TensorFlow `name` parameter in the [TF Placeholder](https://www.tensorflow.org/api_docs/python/tf/placeholder).\n",
    "* Implement `neural_net_label_input`\n",
    " * Return a [TF Placeholder](https://www.tensorflow.org/api_docs/python/tf/placeholder)\n",
    " * Set the shape using `n_classes` with batch size set to `None`.\n",
    " * Name the TensorFlow placeholder \"y\" using the TensorFlow `name` parameter in the [TF Placeholder](https://www.tensorflow.org/api_docs/python/tf/placeholder).\n",
    "* Implement `neural_net_keep_prob_input`\n",
    " * Return a [TF Placeholder](https://www.tensorflow.org/api_docs/python/tf/placeholder) for dropout keep probability.\n",
    " * Name the TensorFlow placeholder \"keep_prob\" using the TensorFlow `name` parameter in the [TF Placeholder](https://www.tensorflow.org/api_docs/python/tf/placeholder).\n",
    "\n",
    "These names will be used at the end of the project to load your saved model.\n",
    "\n",
    "Note: `None` for shapes in TensorFlow allow for a dynamic size."
   ]
  },
  {
   "cell_type": "code",
   "execution_count": 2,
   "metadata": {},
   "outputs": [
    {
     "name": "stdout",
     "output_type": "stream",
     "text": [
      "Image Input Tests Passed.\n",
      "Label Input Tests Passed.\n",
      "Keep Prob Tests Passed.\n"
     ]
    }
   ],
   "source": [
    "import tensorflow as tf\n",
    "\n",
    "def neural_net_image_input(image_shape):\n",
    "    \"\"\"\n",
    "    Return a Tensor for a batch of image input\n",
    "    : image_shape: Shape of the images\n",
    "    : return: Tensor for image input.\n",
    "    \"\"\"\n",
    "    # TODO: Implement Function\n",
    "    \n",
    "    image_height = image_shape[0]\n",
    "    image_width = image_shape[1]\n",
    "    color_channels = image_shape[2]\n",
    "    return tf.placeholder(tf.float32,shape=[None, image_height, image_width, color_channels],name='x')\n",
    "    \n",
    "\n",
    "\n",
    "def neural_net_label_input(n_classes):\n",
    "    \"\"\"\n",
    "    Return a Tensor for a batch of label input\n",
    "    : n_classes: Number of classes\n",
    "    : return: Tensor for label input.\n",
    "    \"\"\"\n",
    "    # TODO: Implement Function\n",
    "    return tf.placeholder(tf.float32,shape=[None, n_classes],name='y')\n",
    "\n",
    "\n",
    "def neural_net_keep_prob_input():\n",
    "    \"\"\"\n",
    "    Return a Tensor for keep probability\n",
    "    : return: Tensor for keep probability.\n",
    "    \"\"\"\n",
    "    # TODO: Implement Function\n",
    "    return tf.placeholder(tf.float32,name=\"keep_prob\") \n",
    "\n",
    "\n",
    "\"\"\"\n",
    "DON'T MODIFY ANYTHING IN THIS CELL THAT IS BELOW THIS LINE\n",
    "\"\"\"\n",
    "tf.reset_default_graph()\n",
    "tests.test_nn_image_inputs(neural_net_image_input)\n",
    "tests.test_nn_label_inputs(neural_net_label_input)\n",
    "tests.test_nn_keep_prob_inputs(neural_net_keep_prob_input)"
   ]
  },
  {
   "cell_type": "markdown",
   "metadata": {},
   "source": [
    "### Convolution and Max Pooling Layer\n",
    "Convolution layers have a lot of success with images. For this code cell, you should implement the function `conv2d_maxpool` to apply convolution then max pooling:\n",
    "* Create the weight and bias using `conv_ksize`, `conv_num_outputs` and the shape of `x_tensor`.\n",
    "* Apply a convolution to `x_tensor` using weight and `conv_strides`.\n",
    " * We recommend you use same padding, but you're welcome to use any padding.\n",
    "* Add bias\n",
    "* Add a nonlinear activation to the convolution.\n",
    "* Apply Max Pooling using `pool_ksize` and `pool_strides`.\n",
    " * We recommend you use same padding, but you're welcome to use any padding.\n",
    "\n",
    "**Note:** You **can't** use [TensorFlow Layers](https://www.tensorflow.org/api_docs/python/tf/layers) or [TensorFlow Layers (contrib)](https://www.tensorflow.org/api_guides/python/contrib.layers) for **this** layer, but you can still use TensorFlow's [Neural Network](https://www.tensorflow.org/api_docs/python/tf/nn) package. You may still use the shortcut option for all the **other** layers.\n",
    "\n",
    "** Hint: **\n",
    "\n",
    "When unpacking values as an argument in Python, look into the [unpacking](https://docs.python.org/3/tutorial/controlflow.html#unpacking-argument-lists) operator. "
   ]
  },
  {
   "cell_type": "code",
   "execution_count": 3,
   "metadata": {},
   "outputs": [
    {
     "name": "stdout",
     "output_type": "stream",
     "text": [
      "Tests Passed\n"
     ]
    }
   ],
   "source": [
    "def conv2d_maxpool(x_tensor, conv_num_outputs, conv_ksize, conv_strides, pool_ksize, pool_strides):\n",
    "    \"\"\"\n",
    "    Apply convolution then max pooling to x_tensor\n",
    "    :param x_tensor: TensorFlow Tensor\n",
    "    :param conv_num_outputs: Number of outputs for the convolutional layer\n",
    "    :param conv_ksize: kernal size 2-D Tuple for the convolutional layer\n",
    "    :param conv_strides: Stride 2-D Tuple for convolution\n",
    "    :param pool_ksize: kernal size 2-D Tuple for pool\n",
    "    :param pool_strides: Stride 2-D Tuple for pool\n",
    "    : return: A tensor that represents convolution and max pooling of x_tensor\n",
    "    \"\"\"\n",
    "    # TODO: Implement Function\n",
    "    # Create the weight and bias using conv_ksize, conv_num_outputs and the shape of x_tensor.\n",
    "    # Apply a convolution to x_tensor using weight and conv_strides.\n",
    "    weight = tf.Variable(tf.truncated_normal((conv_ksize[0], conv_ksize[1], int(x_tensor.shape[3]), conv_num_outputs), \\\n",
    "                                         mean=0,stddev=0.03))\n",
    "\n",
    "    #print(weight.shape)\n",
    "    bias = tf.Variable(tf.zeros([conv_num_outputs]))\n",
    "    #weight=tf.Variable(tf.truncated_normal([2, 2, 5, 10]))\n",
    "    #print(weight)\n",
    "    x = tf.nn.conv2d(x_tensor, weight, strides=[1, conv_strides[0], conv_strides[1], 1], padding='SAME')\n",
    "    x = tf.nn.bias_add(x, bias)\n",
    "    x = tf.nn.relu(x)\n",
    "    \n",
    "    return tf.nn.max_pool(x, ksize=[1, pool_ksize[0], pool_ksize[1], 1], \\\n",
    "        strides=[1, pool_strides[0], pool_strides[1], 1], \\\n",
    "        padding='SAME')\n",
    "    \n",
    "\n",
    "\n",
    "\"\"\"\n",
    "DON'T MODIFY ANYTHING IN THIS CELL THAT IS BELOW THIS LINE\n",
    "\"\"\"\n",
    "tests.test_con_pool(conv2d_maxpool)"
   ]
  },
  {
   "cell_type": "markdown",
   "metadata": {},
   "source": [
    "### Flatten Layer\n",
    "Implement the `flatten` function to change the dimension of `x_tensor` from a 4-D tensor to a 2-D tensor.  The output should be the shape (*Batch Size*, *Flattened Image Size*). Shortcut option: you can use classes from the [TensorFlow Layers](https://www.tensorflow.org/api_docs/python/tf/layers) or [TensorFlow Layers (contrib)](https://www.tensorflow.org/api_guides/python/contrib.layers) packages for this layer. For more of a challenge, only use other TensorFlow packages."
   ]
  },
  {
   "cell_type": "code",
   "execution_count": 4,
   "metadata": {},
   "outputs": [
    {
     "name": "stdout",
     "output_type": "stream",
     "text": [
      "Tests Passed\n"
     ]
    }
   ],
   "source": [
    "def flatten(x_tensor):\n",
    "    \"\"\"\n",
    "    Flatten x_tensor to (Batch Size, Flattened Image Size)\n",
    "    : x_tensor: A tensor of size (Batch Size, ...), where ... are the image dimensions.\n",
    "    : return: A tensor of size (Batch Size, Flattened Image Size).\n",
    "    \"\"\"\n",
    "    # TODO: Implement Function\n",
    "    x_tensor_shape=x_tensor.shape\n",
    "    \n",
    "    return tf.reshape(x_tensor,[-1,int(x_tensor_shape[1] * x_tensor_shape[2] * x_tensor_shape[3])])\n",
    "    \n",
    "    #return None\n",
    "\n",
    "\n",
    "\"\"\"\n",
    "DON'T MODIFY ANYTHING IN THIS CELL THAT IS BELOW THIS LINE\n",
    "\"\"\"\n",
    "tests.test_flatten(flatten)"
   ]
  },
  {
   "cell_type": "markdown",
   "metadata": {},
   "source": [
    "### Fully-Connected Layer\n",
    "Implement the `fully_conn` function to apply a fully connected layer to `x_tensor` with the shape (*Batch Size*, *num_outputs*). Shortcut option: you can use classes from the [TensorFlow Layers](https://www.tensorflow.org/api_docs/python/tf/layers) or [TensorFlow Layers (contrib)](https://www.tensorflow.org/api_guides/python/contrib.layers) packages for this layer. For more of a challenge, only use other TensorFlow packages."
   ]
  },
  {
   "cell_type": "code",
   "execution_count": 5,
   "metadata": {},
   "outputs": [
    {
     "name": "stdout",
     "output_type": "stream",
     "text": [
      "Tests Passed\n"
     ]
    }
   ],
   "source": [
    "def fully_conn(x_tensor, num_outputs):\n",
    "    \"\"\"\n",
    "    Apply a fully connected layer to x_tensor using weight and bias\n",
    "    : x_tensor: A 2-D tensor where the first dimension is batch size.\n",
    "    : num_outputs: The number of output that the new tensor should be.\n",
    "    : return: A 2-D tensor where the second dimension is num_outputs.\n",
    "    \"\"\"\n",
    "    # TODO: Implement Function\n",
    "    #weights = tf.Variable(tf.random_normal(shape=[int(x_tensor.shape[1]),num_outputs],mean=0,stddev=0.04))\n",
    "    weights = tf.Variable(tf.truncated_normal((int(x_tensor.shape[1]),num_outputs),mean=0,stddev=0.04))\n",
    "    bias = tf.Variable(tf.zeros([num_outputs]))\n",
    "    output = tf.add(tf.matmul(x_tensor,weights),bias)\n",
    "    output = tf.nn.relu(output)\n",
    "    return output\n",
    "\n",
    "\n",
    "\"\"\"\n",
    "DON'T MODIFY ANYTHING IN THIS CELL THAT IS BELOW THIS LINE\n",
    "\"\"\"\n",
    "tests.test_fully_conn(fully_conn)"
   ]
  },
  {
   "cell_type": "markdown",
   "metadata": {},
   "source": [
    "### Output Layer\n",
    "Implement the `output` function to apply a fully connected layer to `x_tensor` with the shape (*Batch Size*, *num_outputs*). Shortcut option: you can use classes from the [TensorFlow Layers](https://www.tensorflow.org/api_docs/python/tf/layers) or [TensorFlow Layers (contrib)](https://www.tensorflow.org/api_guides/python/contrib.layers) packages for this layer. For more of a challenge, only use other TensorFlow packages.\n",
    "\n",
    "**Note:** Activation, softmax, or cross entropy should **not** be applied to this."
   ]
  },
  {
   "cell_type": "code",
   "execution_count": 7,
   "metadata": {},
   "outputs": [
    {
     "name": "stdout",
     "output_type": "stream",
     "text": [
      "Tests Passed\n"
     ]
    }
   ],
   "source": [
    "def output(x_tensor, num_outputs):\n",
    "    \"\"\"\n",
    "    Apply a output layer to x_tensor using weight and bias\n",
    "    : x_tensor: A 2-D tensor where the first dimension is batch size.\n",
    "    : num_outputs: The number of output that the new tensor should be.\n",
    "    : return: A 2-D tensor where the second dimension is num_outputs.\n",
    "    \"\"\"\n",
    "    # TODO: Implement Function\n",
    "\n",
    "\n",
    "    weights = tf.Variable(tf.truncated_normal((int(x_tensor.shape[1]),num_outputs),mean=0,stddev=0.04))\n",
    "    bias = tf.Variable(tf.zeros([num_outputs]))\n",
    "    output = tf.add(tf.matmul(x_tensor,weights),bias)\n",
    "    return output\n",
    "\n",
    "\n",
    "\n",
    "\"\"\"\n",
    "DON'T MODIFY ANYTHING IN THIS CELL THAT IS BELOW THIS LINE\n",
    "\"\"\"\n",
    "tests.test_output(output)"
   ]
  },
  {
   "cell_type": "markdown",
   "metadata": {},
   "source": [
    "### Create Convolutional Model\n",
    "Implement the function `conv_net` to create a convolutional neural network model. The function takes in a batch of images, `x`, and outputs logits.  Use the layers you created above to create this model:\n",
    "\n",
    "* Apply 1, 2, or 3 Convolution and Max Pool layers\n",
    "* Apply a Flatten Layer\n",
    "* Apply 1, 2, or 3 Fully Connected Layers\n",
    "* Apply an Output Layer\n",
    "* Return the output\n",
    "* Apply [TensorFlow's Dropout](https://www.tensorflow.org/api_docs/python/tf/nn/dropout) to one or more layers in the model using `keep_prob`. "
   ]
  },
  {
   "cell_type": "code",
   "execution_count": 8,
   "metadata": {},
   "outputs": [
    {
     "name": "stdout",
     "output_type": "stream",
     "text": [
      "Neural Network Built!\n"
     ]
    }
   ],
   "source": [
    "def conv_net(x, keep_prob):\n",
    "    \"\"\"\n",
    "    Create a convolutional neural network model\n",
    "    : x: Placeholder tensor that holds image data.\n",
    "    : keep_prob: Placeholder tensor that hold dropout keep probability.\n",
    "    : return: Tensor that represents logits\n",
    "    \"\"\"\n",
    "    # TODO: Apply 1, 2, or 3 Convolution and Max Pool layers\n",
    "    #    Play around with different number of outputs, kernel size and stride\n",
    "    # Function Definition from Above:\n",
    "    #    conv2d_maxpool(x_tensor, conv_num_outputs, conv_ksize, conv_strides, pool_ksize, pool_strides)\n",
    "\n",
    "    #weight = tf.Variable(tf.random_normal([conv_ksize[0], conv_ksize[1], int(x_tensor.shape[3]), conv_num_outputs]))\n",
    "    #conv1 = conv2d_maxpool(x, 0, (1,1), (1,1), (1,1), (1,1))\n",
    "    #conv1 = tf.nn.dropout(conv1, keep_prob)\n",
    "\n",
    "    #conv2 = conv2d_maxpool(conv1, 15, (3,3), (1,1), (2,2), (2,2))\n",
    "    conv2 = conv2d_maxpool(x, 25, (3,3), (1,1), (2,2), (2,2))\n",
    "    conv2 = tf.nn.dropout(conv2, keep_prob)\n",
    "\n",
    "    \n",
    "    conv3 = conv2d_maxpool(conv2, 50, (3,3), (1,1), (2,2), (2,2))\n",
    "    conv3 = tf.nn.dropout(conv3, keep_prob)\n",
    "\n",
    "    conv4 = conv2d_maxpool(conv3, 100, (4,4), (1,1), (4,4), (2,2))\n",
    "    conv4 = tf.nn.dropout(conv4, keep_prob)\n",
    "\n",
    "    #conv5 = conv2d_maxpool(conv4, 35, (4,4), (1,1), (4,4), (1,1))\n",
    "    #conv5 = tf.nn.dropout(conv5, keep_prob)\n",
    "    \n",
    "    conv = conv4\n",
    "\n",
    "    # TODO: Apply a Flatten Layer\n",
    "    # Function Definition from Above:\n",
    "    #   flatten(x_tensor)\n",
    "    x = flatten(conv)\n",
    "\n",
    "    # TODO: Apply 1, 2, or 3 Fully Connected Layers\n",
    "    #    Play around with different number of outputs\n",
    "    # Function Definition from Above:\n",
    "    #   fully_conn(x_tensor, num_outputs)\n",
    "    x=fully_conn(x, 512)\n",
    "    x=fully_conn(x, 256)\n",
    "    x=fully_conn(x, 128)\n",
    "    \n",
    "    \n",
    "    \n",
    "    # TODO: Apply an Output Layer\n",
    "    #    Set this to the number of classes\n",
    "    # Function Definition from Above:\n",
    "    #   output(x_tensor, num_outputs)\n",
    "    x=output(x, 10)\n",
    "    \n",
    "    # TODO: return output\n",
    "    return x\n",
    "\n",
    "\n",
    "\"\"\"\n",
    "DON'T MODIFY ANYTHING IN THIS CELL THAT IS BELOW THIS LINE\n",
    "\"\"\"\n",
    "\n",
    "##############################\n",
    "## Build the Neural Network ##\n",
    "##############################\n",
    "\n",
    "# Remove previous weights, bias, inputs, etc..\n",
    "tf.reset_default_graph()\n",
    "\n",
    "# Inputs\n",
    "x = neural_net_image_input((32, 32, 3))\n",
    "#print(x)\n",
    "y = neural_net_label_input(10)\n",
    "#print(y)\n",
    "keep_prob = neural_net_keep_prob_input()\n",
    "#print(keep_prob)\n",
    "# Model\n",
    "logits = conv_net(x, keep_prob)\n",
    "\n",
    "# Name logits Tensor, so that is can be loaded from disk after training\n",
    "logits = tf.identity(logits, name='logits')\n",
    "\n",
    "# Loss and Optimizer\n",
    "cost = tf.reduce_mean(tf.nn.softmax_cross_entropy_with_logits(logits=logits, labels=y))\n",
    "optimizer = tf.train.AdamOptimizer().minimize(cost)\n",
    "\n",
    "# Accuracy\n",
    "correct_pred = tf.equal(tf.argmax(logits, 1), tf.argmax(y, 1))\n",
    "accuracy = tf.reduce_mean(tf.cast(correct_pred, tf.float32), name='accuracy')\n",
    "\n",
    "tests.test_conv_net(conv_net)"
   ]
  },
  {
   "cell_type": "markdown",
   "metadata": {},
   "source": [
    "## Train the Neural Network\n",
    "### Single Optimization\n",
    "Implement the function `train_neural_network` to do a single optimization.  The optimization should use `optimizer` to optimize in `session` with a `feed_dict` of the following:\n",
    "* `x` for image input\n",
    "* `y` for labels\n",
    "* `keep_prob` for keep probability for dropout\n",
    "\n",
    "This function will be called for each batch, so `tf.global_variables_initializer()` has already been called.\n",
    "\n",
    "Note: Nothing needs to be returned. This function is only optimizing the neural network."
   ]
  },
  {
   "cell_type": "code",
   "execution_count": 12,
   "metadata": {},
   "outputs": [
    {
     "name": "stdout",
     "output_type": "stream",
     "text": [
      "Tests Passed\n"
     ]
    }
   ],
   "source": [
    "def train_neural_network(session, optimizer, keep_probability, feature_batch, label_batch):\n",
    "    \"\"\"\n",
    "    Optimize the session on a batch of images and labels\n",
    "    : session: Current TensorFlow session\n",
    "    : optimizer: TensorFlow optimizer function\n",
    "    : keep_probability: keep probability\n",
    "    : feature_batch: Batch of Numpy image data\n",
    "    : label_batch: Batch of Numpy label data\n",
    "    \"\"\"\n",
    "    # TODO: Implement Function\n",
    "    session.run(optimizer, feed_dict={x: feature_batch, y: label_batch,keep_prob:keep_probability})\n",
    "\n",
    "\n",
    "\"\"\"\n",
    "DON'T MODIFY ANYTHING IN THIS CELL THAT IS BELOW THIS LINE\n",
    "\"\"\"\n",
    "tests.test_train_nn(train_neural_network)"
   ]
  },
  {
   "cell_type": "markdown",
   "metadata": {},
   "source": [
    "### Show Stats\n",
    "Implement the function `print_stats` to print loss and validation accuracy.  Use the global variables `valid_features` and `valid_labels` to calculate validation accuracy.  Use a keep probability of `1.0` to calculate the loss and validation accuracy."
   ]
  },
  {
   "cell_type": "code",
   "execution_count": 32,
   "metadata": {
    "collapsed": true
   },
   "outputs": [],
   "source": [
    "def print_stats(session, feature_batch, label_batch, cost, accuracy):\n",
    "    \"\"\"\n",
    "    Print information about loss and validation accuracy\n",
    "    : session: Current TensorFlow session\n",
    "    : feature_batch: Batch of Numpy image data\n",
    "    : label_batch: Batch of Numpy label data\n",
    "    : cost: TensorFlow cost function\n",
    "    : accuracy: TensorFlow accuracy function\n",
    "    \"\"\"\n",
    "    # TODO: Implement Function\n",
    "    validation_accuracy=session.run(accuracy, feed_dict={\n",
    "        x: valid_features, \n",
    "        y: valid_labels,\n",
    "        keep_prob: 1})\n",
    "    loss = session.run(cost,feed_dict={x: feature_batch,y: label_batch,keep_prob:1})\n",
    "    print(\"\\nValidation Accuracy:{}, Loss:{}\".format(validation_accuracy,loss))\n",
    "    #print(\"\\nLoss: {}\".format(loss))\n",
    "    \n"
   ]
  },
  {
   "cell_type": "markdown",
   "metadata": {},
   "source": [
    "### Hyperparameters\n",
    "Tune the following parameters:\n",
    "* Set `epochs` to the number of iterations until the network stops learning or start overfitting\n",
    "* Set `batch_size` to the highest number that your machine has memory for.  Most people set them to common sizes of memory:\n",
    " * 64\n",
    " * 128\n",
    " * 256\n",
    " * ...\n",
    "* Set `keep_probability` to the probability of keeping a node using dropout"
   ]
  },
  {
   "cell_type": "code",
   "execution_count": 33,
   "metadata": {
    "collapsed": true
   },
   "outputs": [],
   "source": [
    "# TODO: Tune Parameters\n",
    "epochs = 20\n",
    "batch_size = 128\n",
    "keep_probability = 0.5"
   ]
  },
  {
   "cell_type": "markdown",
   "metadata": {},
   "source": [
    "### Train on a Single CIFAR-10 Batch\n",
    "Instead of training the neural network on all the CIFAR-10 batches of data, let's use a single batch. This should save time while you iterate on the model to get a better accuracy.  Once the final validation accuracy is 50% or greater, run the model on all the data in the next section."
   ]
  },
  {
   "cell_type": "code",
   "execution_count": 34,
   "metadata": {},
   "outputs": [
    {
     "name": "stdout",
     "output_type": "stream",
     "text": [
      "Checking the Training on a Single Batch...\n",
      "Epoch  1, CIFAR-10 Batch 1:  \n",
      "Validation Accuracy:0.2215999960899353, Loss:2.1883187294006348\n",
      "Epoch  2, CIFAR-10 Batch 1:  \n",
      "Validation Accuracy:0.23999999463558197, Loss:2.102719306945801\n",
      "Epoch  3, CIFAR-10 Batch 1:  \n",
      "Validation Accuracy:0.27480000257492065, Loss:2.021071672439575\n",
      "Epoch  4, CIFAR-10 Batch 1:  \n",
      "Validation Accuracy:0.32260000705718994, Loss:1.9514328241348267\n",
      "Epoch  5, CIFAR-10 Batch 1:  \n",
      "Validation Accuracy:0.3707999885082245, Loss:1.7700992822647095\n",
      "Epoch  6, CIFAR-10 Batch 1:  \n",
      "Validation Accuracy:0.3662000000476837, Loss:1.7657067775726318\n",
      "Epoch  7, CIFAR-10 Batch 1:  \n",
      "Validation Accuracy:0.4230000078678131, Loss:1.6673014163970947\n",
      "Epoch  8, CIFAR-10 Batch 1:  \n",
      "Validation Accuracy:0.43860000371932983, Loss:1.5797741413116455\n",
      "Epoch  9, CIFAR-10 Batch 1:  \n",
      "Validation Accuracy:0.4339999854564667, Loss:1.5610134601593018\n",
      "Epoch 10, CIFAR-10 Batch 1:  \n",
      "Validation Accuracy:0.4666000008583069, Loss:1.4437518119812012\n",
      "Epoch 11, CIFAR-10 Batch 1:  \n",
      "Validation Accuracy:0.4618000090122223, Loss:1.4305282831192017\n",
      "Epoch 12, CIFAR-10 Batch 1:  \n",
      "Validation Accuracy:0.48539999127388, Loss:1.316877841949463\n",
      "Epoch 13, CIFAR-10 Batch 1:  \n",
      "Validation Accuracy:0.4959999918937683, Loss:1.3086597919464111\n",
      "Epoch 14, CIFAR-10 Batch 1:  \n",
      "Validation Accuracy:0.5090000033378601, Loss:1.229335904121399\n",
      "Epoch 15, CIFAR-10 Batch 1:  \n",
      "Validation Accuracy:0.5090000033378601, Loss:1.1984325647354126\n",
      "Epoch 16, CIFAR-10 Batch 1:  \n",
      "Validation Accuracy:0.5332000255584717, Loss:1.136608362197876\n",
      "Epoch 17, CIFAR-10 Batch 1:  \n",
      "Validation Accuracy:0.5288000106811523, Loss:1.1257972717285156\n",
      "Epoch 18, CIFAR-10 Batch 1:  \n",
      "Validation Accuracy:0.5306000113487244, Loss:1.1022303104400635\n",
      "Epoch 19, CIFAR-10 Batch 1:  \n",
      "Validation Accuracy:0.5311999917030334, Loss:1.0561754703521729\n",
      "Epoch 20, CIFAR-10 Batch 1:  \n",
      "Validation Accuracy:0.5234000086784363, Loss:1.043981909751892\n"
     ]
    }
   ],
   "source": [
    "\"\"\"\n",
    "DON'T MODIFY ANYTHING IN THIS CELL\n",
    "\"\"\"\n",
    "print('Checking the Training on a Single Batch...')\n",
    "with tf.Session() as sess:\n",
    "    # Initializing the variables\n",
    "    sess.run(tf.global_variables_initializer())\n",
    "    \n",
    "    # Training cycle\n",
    "    for epoch in range(epochs):\n",
    "        batch_i = 1\n",
    "        for batch_features, batch_labels in helper.load_preprocess_training_batch(batch_i, batch_size):\n",
    "            train_neural_network(sess, optimizer, keep_probability, batch_features, batch_labels)\n",
    "        print('Epoch {:>2}, CIFAR-10 Batch {}:  '.format(epoch + 1, batch_i), end='')\n",
    "        print_stats(sess, batch_features, batch_labels, cost, accuracy)"
   ]
  },
  {
   "cell_type": "markdown",
   "metadata": {},
   "source": [
    "The above display confirms that the validation accuracy has increased as the number of epoches increased, and the loss has decreased. Our chosen parameters should give better result when the neural network is trained on all the 5 batches data. "
   ]
  },
  {
   "cell_type": "markdown",
   "metadata": {},
   "source": [
    "### Fully Train the Model\n",
    "Now that you got a good accuracy with a single CIFAR-10 batch, try it with all five batches."
   ]
  },
  {
   "cell_type": "code",
   "execution_count": 35,
   "metadata": {},
   "outputs": [
    {
     "name": "stdout",
     "output_type": "stream",
     "text": [
      "Training...\n",
      "Epoch  1, CIFAR-10 Batch 1:  \n",
      "Validation Accuracy:0.21480000019073486, Loss:2.2156577110290527\n",
      "Epoch  1, CIFAR-10 Batch 2:  \n",
      "Validation Accuracy:0.21799999475479126, Loss:2.0174508094787598\n",
      "Epoch  1, CIFAR-10 Batch 3:  \n",
      "Validation Accuracy:0.24660000205039978, Loss:1.8150259256362915\n",
      "Epoch  1, CIFAR-10 Batch 4:  \n",
      "Validation Accuracy:0.32499998807907104, Loss:1.7720009088516235\n",
      "Epoch  1, CIFAR-10 Batch 5:  \n",
      "Validation Accuracy:0.350600004196167, Loss:1.8226664066314697\n",
      "Epoch  2, CIFAR-10 Batch 1:  \n",
      "Validation Accuracy:0.3930000066757202, Loss:1.746873140335083\n",
      "Epoch  2, CIFAR-10 Batch 2:  \n",
      "Validation Accuracy:0.3799999952316284, Loss:1.576952338218689\n",
      "Epoch  2, CIFAR-10 Batch 3:  \n",
      "Validation Accuracy:0.3921999931335449, Loss:1.4768359661102295\n",
      "Epoch  2, CIFAR-10 Batch 4:  \n",
      "Validation Accuracy:0.42899999022483826, Loss:1.6268012523651123\n",
      "Epoch  2, CIFAR-10 Batch 5:  \n",
      "Validation Accuracy:0.42160001397132874, Loss:1.7515761852264404\n",
      "Epoch  3, CIFAR-10 Batch 1:  \n",
      "Validation Accuracy:0.4724000096321106, Loss:1.5572898387908936\n",
      "Epoch  3, CIFAR-10 Batch 2:  \n",
      "Validation Accuracy:0.4016000032424927, Loss:1.6225197315216064\n",
      "Epoch  3, CIFAR-10 Batch 3:  \n",
      "Validation Accuracy:0.45100000500679016, Loss:1.384691834449768\n",
      "Epoch  3, CIFAR-10 Batch 4:  \n",
      "Validation Accuracy:0.45840001106262207, Loss:1.5359680652618408\n",
      "Epoch  3, CIFAR-10 Batch 5:  \n",
      "Validation Accuracy:0.4562000036239624, Loss:1.5184141397476196\n",
      "Epoch  4, CIFAR-10 Batch 1:  \n",
      "Validation Accuracy:0.5001999735832214, Loss:1.3965733051300049\n",
      "Epoch  4, CIFAR-10 Batch 2:  \n",
      "Validation Accuracy:0.4973999857902527, Loss:1.3919663429260254\n",
      "Epoch  4, CIFAR-10 Batch 3:  \n",
      "Validation Accuracy:0.5052000284194946, Loss:1.1259046792984009\n",
      "Epoch  4, CIFAR-10 Batch 4:  \n",
      "Validation Accuracy:0.5127999782562256, Loss:1.386212706565857\n",
      "Epoch  4, CIFAR-10 Batch 5:  \n",
      "Validation Accuracy:0.4803999960422516, Loss:1.4924275875091553\n",
      "Epoch  5, CIFAR-10 Batch 1:  \n",
      "Validation Accuracy:0.5428000092506409, Loss:1.2820810079574585\n",
      "Epoch  5, CIFAR-10 Batch 2:  \n",
      "Validation Accuracy:0.48539999127388, Loss:1.3522709608078003\n",
      "Epoch  5, CIFAR-10 Batch 3:  \n",
      "Validation Accuracy:0.5329999923706055, Loss:1.0980961322784424\n",
      "Epoch  5, CIFAR-10 Batch 4:  \n",
      "Validation Accuracy:0.475600004196167, Loss:1.4927678108215332\n",
      "Epoch  5, CIFAR-10 Batch 5:  \n",
      "Validation Accuracy:0.5139999985694885, Loss:1.367128610610962\n",
      "Epoch  6, CIFAR-10 Batch 1:  \n",
      "Validation Accuracy:0.5486000180244446, Loss:1.2551674842834473\n",
      "Epoch  6, CIFAR-10 Batch 2:  \n",
      "Validation Accuracy:0.4885999858379364, Loss:1.3373233079910278\n",
      "Epoch  6, CIFAR-10 Batch 3:  \n",
      "Validation Accuracy:0.5388000011444092, Loss:1.1087064743041992\n",
      "Epoch  6, CIFAR-10 Batch 4:  \n",
      "Validation Accuracy:0.5633999705314636, Loss:1.1483824253082275\n",
      "Epoch  6, CIFAR-10 Batch 5:  \n",
      "Validation Accuracy:0.48399999737739563, Loss:1.429677128791809\n",
      "Epoch  7, CIFAR-10 Batch 1:  \n",
      "Validation Accuracy:0.5860000252723694, Loss:1.128131628036499\n",
      "Epoch  7, CIFAR-10 Batch 2:  \n",
      "Validation Accuracy:0.5424000024795532, Loss:1.2891347408294678\n",
      "Epoch  7, CIFAR-10 Batch 3:  \n",
      "Validation Accuracy:0.5745999813079834, Loss:0.947140097618103\n",
      "Epoch  7, CIFAR-10 Batch 4:  \n",
      "Validation Accuracy:0.5771999955177307, Loss:1.1001784801483154\n",
      "Epoch  7, CIFAR-10 Batch 5:  \n",
      "Validation Accuracy:0.5396000146865845, Loss:1.2525122165679932\n",
      "Epoch  8, CIFAR-10 Batch 1:  \n",
      "Validation Accuracy:0.6060000061988831, Loss:1.0375550985336304\n",
      "Epoch  8, CIFAR-10 Batch 2:  \n",
      "Validation Accuracy:0.5703999996185303, Loss:1.1930134296417236\n",
      "Epoch  8, CIFAR-10 Batch 3:  \n",
      "Validation Accuracy:0.5813999772071838, Loss:0.914650559425354\n",
      "Epoch  8, CIFAR-10 Batch 4:  \n",
      "Validation Accuracy:0.5630000233650208, Loss:1.1625703573226929\n",
      "Epoch  8, CIFAR-10 Batch 5:  \n",
      "Validation Accuracy:0.5311999917030334, Loss:1.2242228984832764\n",
      "Epoch  9, CIFAR-10 Batch 1:  \n",
      "Validation Accuracy:0.6068000197410583, Loss:1.0062739849090576\n",
      "Epoch  9, CIFAR-10 Batch 2:  \n",
      "Validation Accuracy:0.5738000273704529, Loss:1.112903356552124\n",
      "Epoch  9, CIFAR-10 Batch 3:  \n",
      "Validation Accuracy:0.5896000266075134, Loss:0.8908459544181824\n",
      "Epoch  9, CIFAR-10 Batch 4:  \n",
      "Validation Accuracy:0.5932000279426575, Loss:1.033686876296997\n",
      "Epoch  9, CIFAR-10 Batch 5:  \n",
      "Validation Accuracy:0.5698000192642212, Loss:1.1879911422729492\n",
      "Epoch 10, CIFAR-10 Batch 1:  \n",
      "Validation Accuracy:0.6284000277519226, Loss:0.9123601913452148\n",
      "Epoch 10, CIFAR-10 Batch 2:  \n",
      "Validation Accuracy:0.6240000128746033, Loss:1.0461499691009521\n",
      "Epoch 10, CIFAR-10 Batch 3:  \n",
      "Validation Accuracy:0.5960000157356262, Loss:0.9074214696884155\n",
      "Epoch 10, CIFAR-10 Batch 4:  \n",
      "Validation Accuracy:0.6032000184059143, Loss:0.9553436040878296\n",
      "Epoch 10, CIFAR-10 Batch 5:  \n",
      "Validation Accuracy:0.6018000245094299, Loss:0.973549485206604\n",
      "Epoch 11, CIFAR-10 Batch 1:  \n",
      "Validation Accuracy:0.6158000230789185, Loss:0.987879753112793\n",
      "Epoch 11, CIFAR-10 Batch 2:  \n",
      "Validation Accuracy:0.5950000286102295, Loss:1.0138602256774902\n",
      "Epoch 11, CIFAR-10 Batch 3:  \n",
      "Validation Accuracy:0.5523999929428101, Loss:1.0668376684188843\n",
      "Epoch 11, CIFAR-10 Batch 4:  \n",
      "Validation Accuracy:0.5971999764442444, Loss:0.9699146151542664\n",
      "Epoch 11, CIFAR-10 Batch 5:  \n",
      "Validation Accuracy:0.5821999907493591, Loss:1.0899666547775269\n",
      "Epoch 12, CIFAR-10 Batch 1:  \n",
      "Validation Accuracy:0.6191999912261963, Loss:0.9284089207649231\n",
      "Epoch 12, CIFAR-10 Batch 2:  \n",
      "Validation Accuracy:0.6420000195503235, Loss:0.8995431661605835\n",
      "Epoch 12, CIFAR-10 Batch 3:  \n",
      "Validation Accuracy:0.6182000041007996, Loss:0.7548423409461975\n",
      "Epoch 12, CIFAR-10 Batch 4:  \n",
      "Validation Accuracy:0.6449999809265137, Loss:0.8503196835517883\n",
      "Epoch 12, CIFAR-10 Batch 5:  \n",
      "Validation Accuracy:0.545799970626831, Loss:1.259076714515686\n",
      "Epoch 13, CIFAR-10 Batch 1:  \n",
      "Validation Accuracy:0.6650000214576721, Loss:0.8451894521713257\n",
      "Epoch 13, CIFAR-10 Batch 2:  \n",
      "Validation Accuracy:0.6050000190734863, Loss:0.9968794584274292\n",
      "Epoch 13, CIFAR-10 Batch 3:  \n",
      "Validation Accuracy:0.629800021648407, Loss:0.7943005561828613\n",
      "Epoch 13, CIFAR-10 Batch 4:  \n",
      "Validation Accuracy:0.6466000080108643, Loss:0.803836464881897\n",
      "Epoch 13, CIFAR-10 Batch 5:  \n",
      "Validation Accuracy:0.5985999703407288, Loss:1.000522255897522\n",
      "Epoch 14, CIFAR-10 Batch 1:  \n",
      "Validation Accuracy:0.657800018787384, Loss:0.7763525247573853\n",
      "Epoch 14, CIFAR-10 Batch 2:  \n",
      "Validation Accuracy:0.647599995136261, Loss:0.8141031265258789\n",
      "Epoch 14, CIFAR-10 Batch 3:  \n",
      "Validation Accuracy:0.6212000250816345, Loss:0.7428308725357056\n",
      "Epoch 14, CIFAR-10 Batch 4:  \n",
      "Validation Accuracy:0.6395999789237976, Loss:0.809840202331543\n",
      "Epoch 14, CIFAR-10 Batch 5:  \n",
      "Validation Accuracy:0.6064000129699707, Loss:0.9714439511299133\n",
      "Epoch 15, CIFAR-10 Batch 1:  \n",
      "Validation Accuracy:0.6582000255584717, Loss:0.7831020951271057\n",
      "Epoch 15, CIFAR-10 Batch 2:  \n",
      "Validation Accuracy:0.6564000248908997, Loss:0.8764247894287109\n",
      "Epoch 15, CIFAR-10 Batch 3:  \n",
      "Validation Accuracy:0.633400022983551, Loss:0.7631415128707886\n",
      "Epoch 15, CIFAR-10 Batch 4:  \n",
      "Validation Accuracy:0.621999979019165, Loss:0.8273540735244751\n",
      "Epoch 15, CIFAR-10 Batch 5:  \n",
      "Validation Accuracy:0.6200000047683716, Loss:0.9096819758415222\n",
      "Epoch 16, CIFAR-10 Batch 1:  \n",
      "Validation Accuracy:0.644599974155426, Loss:0.8524129986763\n",
      "Epoch 16, CIFAR-10 Batch 2:  \n",
      "Validation Accuracy:0.6064000129699707, Loss:0.9396159052848816\n",
      "Epoch 16, CIFAR-10 Batch 3:  \n",
      "Validation Accuracy:0.6341999769210815, Loss:0.7462631464004517\n",
      "Epoch 16, CIFAR-10 Batch 4:  \n",
      "Validation Accuracy:0.6226000189781189, Loss:0.901140570640564\n",
      "Epoch 16, CIFAR-10 Batch 5:  \n",
      "Validation Accuracy:0.5943999886512756, Loss:1.040191411972046\n",
      "Epoch 17, CIFAR-10 Batch 1:  \n",
      "Validation Accuracy:0.6416000127792358, Loss:0.8584495782852173\n",
      "Epoch 17, CIFAR-10 Batch 2:  \n",
      "Validation Accuracy:0.6546000242233276, Loss:0.7653399705886841\n",
      "Epoch 17, CIFAR-10 Batch 3:  \n",
      "Validation Accuracy:0.6322000026702881, Loss:0.7311531901359558\n",
      "Epoch 17, CIFAR-10 Batch 4:  \n",
      "Validation Accuracy:0.652999997138977, Loss:0.7801945805549622\n",
      "Epoch 17, CIFAR-10 Batch 5:  \n",
      "Validation Accuracy:0.5848000049591064, Loss:1.029264211654663\n",
      "Epoch 18, CIFAR-10 Batch 1:  \n",
      "Validation Accuracy:0.6705999970436096, Loss:0.6662153005599976\n",
      "Epoch 18, CIFAR-10 Batch 2:  \n",
      "Validation Accuracy:0.6485999822616577, Loss:0.7506470680236816\n"
     ]
    },
    {
     "name": "stdout",
     "output_type": "stream",
     "text": [
      "Epoch 18, CIFAR-10 Batch 3:  \n",
      "Validation Accuracy:0.6100000143051147, Loss:0.8502010107040405\n",
      "Epoch 18, CIFAR-10 Batch 4:  \n",
      "Validation Accuracy:0.6553999781608582, Loss:0.8309892416000366\n",
      "Epoch 18, CIFAR-10 Batch 5:  \n",
      "Validation Accuracy:0.6262000203132629, Loss:0.8586848378181458\n",
      "Epoch 19, CIFAR-10 Batch 1:  \n",
      "Validation Accuracy:0.6593999862670898, Loss:0.7110060453414917\n",
      "Epoch 19, CIFAR-10 Batch 2:  \n",
      "Validation Accuracy:0.6661999821662903, Loss:0.7564606666564941\n",
      "Epoch 19, CIFAR-10 Batch 3:  \n",
      "Validation Accuracy:0.633400022983551, Loss:0.7247846722602844\n",
      "Epoch 19, CIFAR-10 Batch 4:  \n",
      "Validation Accuracy:0.6528000235557556, Loss:0.7880569100379944\n",
      "Epoch 19, CIFAR-10 Batch 5:  \n",
      "Validation Accuracy:0.5884000062942505, Loss:1.1374067068099976\n",
      "Epoch 20, CIFAR-10 Batch 1:  \n",
      "Validation Accuracy:0.6855999827384949, Loss:0.6630653142929077\n",
      "Epoch 20, CIFAR-10 Batch 2:  \n",
      "Validation Accuracy:0.6618000268936157, Loss:0.7693377733230591\n",
      "Epoch 20, CIFAR-10 Batch 3:  \n",
      "Validation Accuracy:0.6218000054359436, Loss:0.6803957223892212\n",
      "Epoch 20, CIFAR-10 Batch 4:  \n",
      "Validation Accuracy:0.6628000140190125, Loss:0.678956151008606\n",
      "Epoch 20, CIFAR-10 Batch 5:  \n",
      "Validation Accuracy:0.6381999850273132, Loss:0.8457325100898743\n"
     ]
    }
   ],
   "source": [
    "\"\"\"\n",
    "DON'T MODIFY ANYTHING IN THIS CELL\n",
    "\"\"\"\n",
    "save_model_path = './image_classification'\n",
    "\n",
    "print('Training...')\n",
    "with tf.Session() as sess:\n",
    "    # Initializing the variables\n",
    "    sess.run(tf.global_variables_initializer())\n",
    "    \n",
    "    # Training cycle\n",
    "    for epoch in range(epochs):\n",
    "        # Loop over all batches\n",
    "        n_batches = 5\n",
    "        for batch_i in range(1, n_batches + 1):\n",
    "            for batch_features, batch_labels in helper.load_preprocess_training_batch(batch_i, batch_size):\n",
    "                train_neural_network(sess, optimizer, keep_probability, batch_features, batch_labels)\n",
    "            print('Epoch {:>2}, CIFAR-10 Batch {}:  '.format(epoch + 1, batch_i), end='')\n",
    "            print_stats(sess, batch_features, batch_labels, cost, accuracy)\n",
    "            \n",
    "    # Save Model\n",
    "    saver = tf.train.Saver()\n",
    "    save_path = saver.save(sess, save_model_path)"
   ]
  },
  {
   "cell_type": "markdown",
   "metadata": {},
   "source": [
    "# Checkpoint\n",
    "The model has been saved to disk.\n",
    "## Test Model\n",
    "Test your model against the test dataset.  This will be your final accuracy. You should have an accuracy greater than 50%. If you don't, keep tweaking the model architecture and parameters."
   ]
  },
  {
   "cell_type": "code",
   "execution_count": 36,
   "metadata": {},
   "outputs": [
    {
     "name": "stdout",
     "output_type": "stream",
     "text": [
      "Testing Accuracy: 0.6255933544303798\n",
      "\n"
     ]
    },
    {
     "data": {
      "image/png": "[encoded data removed]",
      "text/plain": [
       "<matplotlib.figure.Figure at 0x17ac1964b00>"
      ]
     },
     "metadata": {
      "image/png": {
       "height": 319,
       "width": 355
      }
     },
     "output_type": "display_data"
    }
   ],
   "source": [
    "\"\"\"\n",
    "DON'T MODIFY ANYTHING IN THIS CELL\n",
    "\"\"\"\n",
    "%matplotlib inline\n",
    "%config InlineBackend.figure_format = 'retina'\n",
    "\n",
    "import tensorflow as tf\n",
    "import pickle\n",
    "import helper\n",
    "import random\n",
    "\n",
    "# Set batch size if not already set\n",
    "try:\n",
    "    if batch_size:\n",
    "        pass\n",
    "except NameError:\n",
    "    batch_size = 64\n",
    "\n",
    "save_model_path = './image_classification'\n",
    "n_samples = 4\n",
    "top_n_predictions = 3\n",
    "\n",
    "def test_model():\n",
    "    \"\"\"\n",
    "    Test the saved model against the test dataset\n",
    "    \"\"\"\n",
    "\n",
    "    test_features, test_labels = pickle.load(open('preprocess_training.p', mode='rb'))\n",
    "    loaded_graph = tf.Graph()\n",
    "\n",
    "    with tf.Session(graph=loaded_graph) as sess:\n",
    "        # Load model\n",
    "        loader = tf.train.import_meta_graph(save_model_path + '.meta')\n",
    "        loader.restore(sess, save_model_path)\n",
    "\n",
    "        # Get Tensors from loaded model\n",
    "        loaded_x = loaded_graph.get_tensor_by_name('x:0')\n",
    "        loaded_y = loaded_graph.get_tensor_by_name('y:0')\n",
    "        loaded_keep_prob = loaded_graph.get_tensor_by_name('keep_prob:0')\n",
    "        loaded_logits = loaded_graph.get_tensor_by_name('logits:0')\n",
    "        loaded_acc = loaded_graph.get_tensor_by_name('accuracy:0')\n",
    "        \n",
    "        # Get accuracy in batches for memory limitations\n",
    "        test_batch_acc_total = 0\n",
    "        test_batch_count = 0\n",
    "        \n",
    "        for train_feature_batch, train_label_batch in helper.batch_features_labels(test_features, test_labels, batch_size):\n",
    "            test_batch_acc_total += sess.run(\n",
    "                loaded_acc,\n",
    "                feed_dict={loaded_x: train_feature_batch, loaded_y: train_label_batch, loaded_keep_prob: 1.0})\n",
    "            test_batch_count += 1\n",
    "\n",
    "        print('Testing Accuracy: {}\\n'.format(test_batch_acc_total/test_batch_count))\n",
    "\n",
    "        # Print Random Samples\n",
    "        random_test_features, random_test_labels = tuple(zip(*random.sample(list(zip(test_features, test_labels)), n_samples)))\n",
    "        random_test_predictions = sess.run(\n",
    "            tf.nn.top_k(tf.nn.softmax(loaded_logits), top_n_predictions),\n",
    "            feed_dict={loaded_x: random_test_features, loaded_y: random_test_labels, loaded_keep_prob: 1.0})\n",
    "        helper.display_image_predictions(random_test_features, random_test_labels, random_test_predictions)\n",
    "\n",
    "\n",
    "test_model()"
   ]
  },
  {
   "cell_type": "markdown",
   "metadata": {},
   "source": [
    "Except for the dog, all other were correctly predicted. For the dog picture, the probability of bird, dog and cat are all less than 0.5, so the prediction is not really confident. "
   ]
  },
  {
   "cell_type": "markdown",
   "metadata": {},
   "source": [
    "## Summary\n",
    "\n",
    "### Architecture\n",
    "\n",
    "In this project, I used the following architecture for the Convolutional Neural Network:\n",
    "\n",
    "0. Input layer: Image of size 32X32X3\n",
    "\n",
    "1. Convolutional layer 1: Depth=25, Filter size = 3X3, Filter Stride = 1, Max pool size = 2X2, Pool Stride = 2\n",
    "\n",
    "2. Convolutional layer 2: Depth=50, Filter size = 3X3, Filter Stride = 1, Max pool size = 2X2, Pool Stride = 2\n",
    "\n",
    "3. Convolutional layer 3: Depth=100, Filter size = 4X4, Filter Stride = 1, Max pool size = 4X4, Pool Stride = 2\n",
    "\n",
    "4. Fully connected layer 1: Nodes = 512\n",
    "\n",
    "5. Fully connected layer 1: Nodes = 216\n",
    "\n",
    "6. Fully connected layer 1: Nodes = 128\n",
    "\n",
    "7. Fully connected layer 1: Nodes = 10\n",
    "\n",
    "### Other parameters\n",
    "\n",
    "* epochs = 20\n",
    "\n",
    "* batch_size = 128\n",
    "\n",
    "* keep_probability = 0.5\n",
    "\n",
    "### Challenges\n",
    "\n",
    "* Initially I used the _tf.random_normal()_ for all the weights and biases. This has given an accuracy of 0.125 (approximately). But _tf.truncated_normal()_ with a standard deviation of 0.04 was used to generate the initial random weights and _tf.zeros()_ was used to generate the initial bias values. These changes along with the network architecture (given above) has given a test accuracy of 62%."
   ]
  },
  {
   "cell_type": "markdown",
   "metadata": {},
   "source": [
    "## Why 50-80% Accuracy?\n",
    "You might be wondering why you can't get an accuracy any higher. First things first, 50% isn't bad for a simple CNN.  Pure guessing would get you 10% accuracy. That's because there are many more techniques that can be applied to your model and we recemmond that once you are done with this project, you explore!\n",
    "\n",
    "## Submitting This Project\n",
    "When submitting this project, make sure to run all the cells before saving the notebook.  Save the notebook file as \"image_classification.ipynb\" and save it as a HTML file under \"File\" -> \"Download as\".  Include the \"helper.py\" and \"problem_unittests.py\" files in your submission."
   ]
  }
 ],
 "metadata": {
  "anaconda-cloud": {},
  "kernelspec": {
   "display_name": "Python 3",
   "language": "python",
   "name": "python3"
  },
  "language_info": {
   "codemirror_mode": {
    "name": "ipython",
    "version": 3
   },
   "file_extension": ".py",
   "mimetype": "text/x-python",
   "name": "python",
   "nbconvert_exporter": "python",
   "pygments_lexer": "ipython3",
   "version": "3.5.3"
  }
 },
 "nbformat": 4,
 "nbformat_minor": 1
}
